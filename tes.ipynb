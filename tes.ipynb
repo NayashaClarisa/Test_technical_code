{
 "cells": [
  {
   "cell_type": "markdown",
   "id": "c12069b8",
   "metadata": {},
   "source": [
    "### Nomor 4: Generate Segitiga"
   ]
  },
  {
   "cell_type": "code",
   "execution_count": 15,
   "id": "b7e4e739",
   "metadata": {},
   "outputs": [
    {
     "name": "stdout",
     "output_type": "stream",
     "text": [
      "Masukkan angka: 6878\n",
      "Segitiga dari 6878 yaitu seperti \n",
      " 6666\n",
      "888\n",
      "77\n",
      "8\n",
      "\n"
     ]
    }
   ],
   "source": [
    "def generate_segitiga(num):\n",
    "    input_str = str(num)\n",
    "    n = len(input_str)\n",
    "    segitiga = \"\"\n",
    "    \n",
    "    for i in range(n):\n",
    "        segitiga += input_str[i] * (n-i)\n",
    "        segitiga += \"\\n\"\n",
    "        \n",
    "    return segitiga\n",
    "\n",
    "num = int(input(\"Masukkan angka: \"))\n",
    "\n",
    "hasil_segitiga = generate_segitiga(num)\n",
    "print(f\"Segitiga dari {num} yaitu seperti \\n {hasil_segitiga}\")"
   ]
  },
  {
   "cell_type": "markdown",
   "id": "198c25ae",
   "metadata": {},
   "source": [
    "### Nomor 5: Generate Bilangan Ganjil"
   ]
  },
  {
   "cell_type": "code",
   "execution_count": 4,
   "id": "e70de059",
   "metadata": {},
   "outputs": [
    {
     "name": "stdout",
     "output_type": "stream",
     "text": [
      "1\n",
      "3\n",
      "5\n",
      "7\n",
      "9\n",
      "11\n",
      "13\n",
      "15\n",
      "17\n",
      "19\n"
     ]
    }
   ],
   "source": [
    "for i in range (1, 21, 2):\n",
    "    print(i)"
   ]
  },
  {
   "cell_type": "code",
   "execution_count": 7,
   "id": "1647b735",
   "metadata": {},
   "outputs": [
    {
     "name": "stdout",
     "output_type": "stream",
     "text": [
      "Masukkan angka maksimal yang ingin diinput: 30\n",
      "Bilangan ganjil dari 0 hingga 30 antara lain: [1, 3, 5, 7, 9, 11, 13, 15, 17, 19, 21, 23, 25, 27, 29]\n"
     ]
    }
   ],
   "source": [
    "def bilangan_ganjil(number):\n",
    "    bil_ganjil = [num for num in range(number + 1) if num % 2 != 0]\n",
    "    return bil_ganjil\n",
    "\n",
    "angka_max = int(input(\"Masukkan angka maksimal yang ingin diinput: \"))\n",
    "\n",
    "result = bilangan_ganjil(angka_max)\n",
    "print(f\"Bilangan ganjil dari 0 hingga {angka_max} antara lain: {result}\")"
   ]
  },
  {
   "cell_type": "markdown",
   "id": "5be3ae50",
   "metadata": {},
   "source": [
    "### Nomor 6: Generate Bilangan Prima"
   ]
  },
  {
   "cell_type": "code",
   "execution_count": 6,
   "id": "2107390c",
   "metadata": {},
   "outputs": [
    {
     "name": "stdout",
     "output_type": "stream",
     "text": [
      "Masukkan angka yang diinginkan: 1 4 2 5 6 7 8 9 0 10 11 12 131 4\n",
      "Hasil Filter Bilangan Prima:  [2, 5, 7, 11, 131]\n"
     ]
    }
   ],
   "source": [
    "def prime(num):\n",
    "    if num < 2:\n",
    "        return False\n",
    "    for i in range(2, int(num ** 0.5) + 1):\n",
    "        if num % i == 0:\n",
    "            return False\n",
    "    return True\n",
    "\n",
    "def print_prime(number):\n",
    "    return [num for num in number if prime(num)]\n",
    "\n",
    "input_angka = input(\"Masukkan angka yang diinginkan: \").split()\n",
    "input_angka = [int(x) for x in input_angka]\n",
    "angka_prima = print_prime(input_angka)\n",
    "print(\"Hasil Filter Bilangan Prima: \", angka_prima)"
   ]
  },
  {
   "cell_type": "code",
   "execution_count": null,
   "id": "8ba7ec08",
   "metadata": {},
   "outputs": [],
   "source": []
  }
 ],
 "metadata": {
  "kernelspec": {
   "display_name": "Python 3 (ipykernel)",
   "language": "python",
   "name": "python3"
  },
  "language_info": {
   "codemirror_mode": {
    "name": "ipython",
    "version": 3
   },
   "file_extension": ".py",
   "mimetype": "text/x-python",
   "name": "python",
   "nbconvert_exporter": "python",
   "pygments_lexer": "ipython3",
   "version": "3.11.5"
  }
 },
 "nbformat": 4,
 "nbformat_minor": 5
}
